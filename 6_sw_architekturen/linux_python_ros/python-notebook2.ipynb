{
 "cells": [
  {
   "attachments": {},
   "cell_type": "markdown",
   "id": "2cc42ed0",
   "metadata": {},
   "source": [
    "# Python Notebook 2"
   ]
  },
  {
   "cell_type": "code",
   "execution_count": null,
   "id": "b86b5418-b91c-4762-86a5-920cf0894e6e",
   "metadata": {
    "tags": []
   },
   "outputs": [
    {
     "data": {
      "text/plain": [
       "0.8414709848078965"
      ]
     },
     "execution_count": 3,
     "metadata": {},
     "output_type": "execute_result"
    }
   ],
   "source": [
    "import math\n",
    "a = 1\n",
    "math.sin(a)"
   ]
  },
  {
   "attachments": {},
   "cell_type": "markdown",
   "id": "f0533ca1",
   "metadata": {},
   "source": [
    "Schritt 2:"
   ]
  },
  {
   "cell_type": "code",
   "execution_count": null,
   "id": "1bd7ec30-6e0c-4d86-8943-8511053e3c01",
   "metadata": {},
   "outputs": [],
   "source": [
    "print(a)\n",
    "b = 10"
   ]
  }
 ],
 "metadata": {
  "kernelspec": {
   "display_name": "Python 3 (ipykernel)",
   "language": "python",
   "name": "python3"
  },
  "language_info": {
   "codemirror_mode": {
    "name": "ipython",
    "version": 3
   },
   "file_extension": ".py",
   "mimetype": "text/x-python",
   "name": "python",
   "nbconvert_exporter": "python",
   "pygments_lexer": "ipython3",
   "version": "3.10.10"
  }
 },
 "nbformat": 4,
 "nbformat_minor": 5
}
