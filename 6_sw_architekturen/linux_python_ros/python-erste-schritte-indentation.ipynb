{
 "cells": [
  {
   "attachments": {},
   "cell_type": "markdown",
   "id": "f251969c",
   "metadata": {},
   "source": [
    "# Arbeitsblatt Einrücken"
   ]
  },
  {
   "cell_type": "code",
   "execution_count": 2,
   "id": "7d3582d5-550e-48d0-a738-ab702ceac534",
   "metadata": {
    "tags": []
   },
   "outputs": [
    {
     "ename": "IndentationError",
     "evalue": "unindent does not match any outer indentation level (<tokenize>, line 7)",
     "output_type": "error",
     "traceback": [
      "\u001b[0;36m  File \u001b[0;32m<tokenize>:7\u001b[0;36m\u001b[0m\n\u001b[0;31m    else:\u001b[0m\n\u001b[0m    ^\u001b[0m\n\u001b[0;31mIndentationError\u001b[0m\u001b[0;31m:\u001b[0m unindent does not match any outer indentation level\n"
     ]
    }
   ],
   "source": [
    "fruits = [\"Brot\", \"Zucker\", \"Wasser\", \"Salz\"]\n",
    "\n",
    " print(\"Meine Einkaufsliste:\")\n",
    "for f in fruits:\n",
    "    if f == \"Wasser\":\n",
    "        print(\"-\", f, \"!\")\n",
    "     else:\n",
    "          print(\"-\", f)\n",
    "    print('Fertig!')"
   ]
  }
 ],
 "metadata": {
  "kernelspec": {
   "display_name": "Python 3 (ipykernel)",
   "language": "python",
   "name": "python3"
  },
  "language_info": {
   "codemirror_mode": {
    "name": "ipython",
    "version": 3
   },
   "file_extension": ".py",
   "mimetype": "text/x-python",
   "name": "python",
   "nbconvert_exporter": "python",
   "pygments_lexer": "ipython3",
   "version": "3.10.10"
  }
 },
 "nbformat": 4,
 "nbformat_minor": 5
}
