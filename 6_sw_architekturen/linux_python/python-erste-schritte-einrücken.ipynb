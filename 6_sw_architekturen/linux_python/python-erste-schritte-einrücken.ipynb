{
 "cells": [
  {
   "attachments": {},
   "cell_type": "markdown",
   "id": "f251969c",
   "metadata": {},
   "source": [
    "# Arbeitsblatt: Einrücken"
   ]
  },
  {
   "cell_type": "code",
   "execution_count": null,
   "id": "7d3582d5-550e-48d0-a738-ab702ceac534",
   "metadata": {
    "tags": []
   },
   "outputs": [],
   "source": [
    "shopping_list = [\"Brot\", \"Zucker\", \"Wasser\", \"Salz\"]\n",
    "\n",
    " print(\"Meine Einkaufsliste:\")\n",
    "for item in shopping_list:\n",
    "    if item == \"Wasser\":\n",
    "        print(\"-\", item, \"(Wichtig!)\")\n",
    "     else\n",
    "          print(\"-\", item)\n",
    "    print('Fertig!')"
   ]
  }
 ],
 "metadata": {
  "kernelspec": {
   "display_name": "Python 3 (ipykernel)",
   "language": "python",
   "name": "python3"
  },
  "language_info": {
   "codemirror_mode": {
    "name": "ipython",
    "version": 3
   },
   "file_extension": ".py",
   "mimetype": "text/x-python",
   "name": "python",
   "nbconvert_exporter": "python",
   "pygments_lexer": "ipython3",
   "version": "3.10.10"
  }
 },
 "nbformat": 4,
 "nbformat_minor": 5
}
