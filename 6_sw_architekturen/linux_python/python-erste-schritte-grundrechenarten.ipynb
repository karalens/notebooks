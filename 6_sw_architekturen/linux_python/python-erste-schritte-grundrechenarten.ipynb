{
 "cells": [
  {
   "cell_type": "markdown",
   "id": "f251969c",
   "metadata": {},
   "source": [
    "# Arbeitsblatt: Mathematische Grundrechenarten"
   ]
  },
  {
   "cell_type": "code",
   "execution_count": 7,
   "id": "7d3582d5-550e-48d0-a738-ab702ceac534",
   "metadata": {
    "tags": []
   },
   "outputs": [
    {
     "name": "stdout",
     "output_type": "stream",
     "text": [
      "3.141592653589793\n"
     ]
    }
   ],
   "source": [
    "from math import *\n",
    "\n",
    "print(pi)"
   ]
  },
  {
   "cell_type": "code",
   "execution_count": null,
   "id": "fbd36c32-e663-4d62-ab76-177a672c2ff0",
   "metadata": {},
   "outputs": [],
   "source": []
  }
 ],
 "metadata": {
  "kernelspec": {
   "display_name": "Python 3 (ipykernel)",
   "language": "python",
   "name": "python3"
  },
  "language_info": {
   "codemirror_mode": {
    "name": "ipython",
    "version": 3
   },
   "file_extension": ".py",
   "mimetype": "text/x-python",
   "name": "python",
   "nbconvert_exporter": "python",
   "pygments_lexer": "ipython3",
   "version": "3.10.10"
  }
 },
 "nbformat": 4,
 "nbformat_minor": 5
}
