{
 "cells": [
  {
   "attachments": {},
   "cell_type": "markdown",
   "id": "2cc42ed0",
   "metadata": {},
   "source": [
    "# Python Notebook / Robotics Toolbox"
   ]
  },
  {
   "cell_type": "code",
   "execution_count": null,
   "id": "b86b5418-b91c-4762-86a5-920cf0894e6e",
   "metadata": {
    "tags": []
   },
   "outputs": [
    {
     "data": {
      "text/plain": [
       "0.8414709848078965"
      ]
     },
     "execution_count": 3,
     "metadata": {},
     "output_type": "execute_result"
    }
   ],
   "source": [
    "try:\n",
    "    # We must install required packages if we are in Google Colab\n",
    "    #import google.colab\n",
    "    #%pip install roboticstoolbox-python>=1.0.2\n",
    "except:\n",
    "    #"
   ]
  },
  {
   "cell_type": "code",
   "execution_count": null,
   "id": "1bd7ec30-6e0c-4d86-8943-8511053e3c01",
   "metadata": {},
   "outputs": [],
   "source": [
    "print(a)\n",
    "b = 2"
   ]
  }
 ],
 "metadata": {
  "kernelspec": {
   "display_name": "Python 3 (ipykernel)",
   "language": "python",
   "name": "python3"
  },
  "language_info": {
   "codemirror_mode": {
    "name": "ipython",
    "version": 3
   },
   "file_extension": ".py",
   "mimetype": "text/x-python",
   "name": "python",
   "nbconvert_exporter": "python",
   "pygments_lexer": "ipython3",
   "version": "3.10.10"
  }
 },
 "nbformat": 4,
 "nbformat_minor": 5
}
