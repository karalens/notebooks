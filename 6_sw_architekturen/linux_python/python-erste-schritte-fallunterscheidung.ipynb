{
 "cells": [
  {
   "attachments": {},
   "cell_type": "markdown",
   "id": "f251969c",
   "metadata": {},
   "source": [
    "# Arbeitsblatt: Fallunterscheidung"
   ]
  },
  {
   "cell_type": "markdown",
   "id": "e10cef55-76d3-493d-9c6d-234a2014c0d8",
   "metadata": {},
   "source": [
    "**WICHTIG**: \n",
    "\n",
    "Auf den PCs fehlt gegebenenfalls ein Paket. Das wird in der nachfolgenden Zelle geprüft.\n",
    "\n",
    "Bitte **JupyterLab neu starten** (*File --> Shut Down*), falls die nachfolgende Ausgabe darauf hinweist!\n",
    "\n",
    "(Es reicht nicht, nur den Kernel neu zu starten!)"
   ]
  },
  {
   "cell_type": "code",
   "execution_count": null,
   "id": "a8282131-4695-4ee9-b915-0f537a95f0f2",
   "metadata": {},
   "outputs": [],
   "source": [
    "import sys\n",
    "\n",
    "try:\n",
    "    import ipympl\n",
    "    print('Alle Pakete sind da!');\n",
    "except ImportError as e:\n",
    "    print('Fehlende Pakete werden nachinstalliert...');\n",
    "    !{sys.executable} -m pip install ipympl -U -q\n",
    "    try:\n",
    "        import ipympl\n",
    "        print('Installation war erfolgreich. Bitte JupyterLab NEU STARTEN! (Das ist nur einmalig nötig.)');\n",
    "    except ImportError as e:\n",
    "        print('Die Installation war nicht erfolgreich. Bitte JupyterLab NEU STARTEN! (Das ist nur einmalig nötig.)');\n",
    "        print(\"Error -> \", e)\n",
    "        !{sys.executable} -m pip install ipympl -U"
   ]
  },
  {
   "cell_type": "code",
   "execution_count": null,
   "id": "7d3582d5-550e-48d0-a738-ab702ceac534",
   "metadata": {
    "tags": []
   },
   "outputs": [],
   "source": [
    "%matplotlib widget\n",
    "\n",
    "import matplotlib.pyplot as plt\n",
    "import matplotlib.animation\n",
    "import numpy as np\n",
    "\n",
    "try:\n",
    "    # Pause running animations. Multiple simultanious animations will slow\n",
    "    # down the kernel.\n",
    "    ani.pause()\n",
    "except:\n",
    "    pass\n",
    "\n",
    "fig, ax = plt.subplots()\n",
    "fig.set_label(' ')\n",
    "plt.xlabel('x')\n",
    "plt.ylabel('y')\n",
    "dt = 50 / 1000\n",
    "t_max = 10\n",
    "\n",
    "x = 0\n",
    "circle = ax.add_patch(plt.Circle((0, 0.5), 0.1, color='r'))\n",
    "text = plt.text(0.8, 0.4, '')\n",
    "ax.axis('equal')\n",
    "ax.set(xlim=[0, 1], ylim=[-0.5, 0.5])\n",
    "\n",
    "def init():\n",
    "    circle.set_center([0, 0])\n",
    "    text.set_text('t = 0 s')\n",
    "    return\n",
    "\n",
    "def animate(i):\n",
    "    global x\n",
    "    t = i * dt\n",
    "    x = x + 0.2 * dt\n",
    "    circle.set_center([x, 0])\n",
    "    text.set_text('%.1f s' % t)\n",
    "    return\n",
    "\n",
    "ani = matplotlib.animation.FuncAnimation(fig, animate, init_func=init, interval=dt*1000, frames=int(t_max/dt), repeat=False, blit=True)\n",
    "ani.resume()"
   ]
  }
 ],
 "metadata": {
  "kernelspec": {
   "display_name": "Python 3 (ipykernel)",
   "language": "python",
   "name": "python3"
  },
  "language_info": {
   "codemirror_mode": {
    "name": "ipython",
    "version": 3
   },
   "file_extension": ".py",
   "mimetype": "text/x-python",
   "name": "python",
   "nbconvert_exporter": "python",
   "pygments_lexer": "ipython3",
   "version": "3.10.10"
  }
 },
 "nbformat": 4,
 "nbformat_minor": 5
}
